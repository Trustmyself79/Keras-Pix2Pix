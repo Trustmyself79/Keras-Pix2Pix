{
 "cells": [
  {
   "cell_type": "code",
   "execution_count": 2,
   "metadata": {},
   "outputs": [],
   "source": [
    "import os, os.path,shutil\n",
    "import random\n",
    "import sys"
   ]
  },
  {
   "cell_type": "code",
   "execution_count": 3,
   "metadata": {},
   "outputs": [],
   "source": [
    "def buildFolder(basePath,folderName):\n",
    "    path = basePath + '/' + folderName\n",
    "    isExists=os.path.exists(path)\n",
    "    if not isExists:\n",
    "        os.mkdir(path)\n",
    "    else:\n",
    "        shutil.rmtree(path)\n",
    "        os.mkdir(path)\n",
    "    print(folderName + ' is initailized sucessfully.')\n",
    "    return path"
   ]
  },
  {
   "cell_type": "code",
   "execution_count": 4,
   "metadata": {},
   "outputs": [],
   "source": [
    "def getDirFileAmount(dirPath,filetype):\n",
    "    dataSet = [f for f in os.listdir(dirPath) if f.endswith(filetype)]\n",
    "    return len(dataSet)"
   ]
  },
  {
   "cell_type": "code",
   "execution_count": 5,
   "metadata": {},
   "outputs": [],
   "source": [
    "def getDirFile(dirPath,filetype):\n",
    "    dataSet = [f for f in os.listdir(dirPath) if f.endswith(filetype)]\n",
    "    return dataSet"
   ]
  },
  {
   "cell_type": "code",
   "execution_count": 6,
   "metadata": {},
   "outputs": [],
   "source": [
    "def shuffleFile(dirPath,trainFontName,valFontName,shuffle=True,test_size=0.8):\n",
    "    fontPath = dirPath + '/'+ trainFontName + '/'\n",
    "    fontPath2 = dirPath + '/'+ valFontName + '/'\n",
    "    testSet = getDirFile(fontPath,'.png')\n",
    "    trainNum = int(len(testSet) * (1 - test_size))\n",
    "    print(\"total file: {}\".format(len(testSet)))\n",
    "    print(\"train file: {}\".format(trainNum))\n",
    "    print(\"validation file: {}\".format(len(testSet) - trainNum))\n",
    "    \n",
    "    trainPath = buildFolder(dirPath,'train')\n",
    "    trainLabelPath = buildFolder(dirPath,'train_label')\n",
    "    \n",
    "    valPath = buildFolder(dirPath,'val')\n",
    "    valLabelPath = buildFolder(dirPath,'val_label')\n",
    "    \n",
    "    #trainNotUsePath = buildFolder(dirPath,'train_NotUse')\n",
    "    #testPath = buildFolder(dirPath,'test')\n",
    "    \n",
    "    count = 0;\n",
    "    random.shuffle(testSet)\n",
    "    for imgName in testSet:\n",
    "        imgPath = fontPath + imgName\n",
    "        imgValPath = fontPath2 + imgName\n",
    "        if os.path.exists(imgPath) and os.path.exists(imgValPath):\n",
    "            count = count + 1\n",
    "            if count <= trainNum:\n",
    "                shutil.copy(imgPath,trainPath)\n",
    "                shutil.copy(imgValPath,trainLabelPath)\n",
    "            else:\n",
    "                shutil.copy(imgPath,valPath)\n",
    "                shutil.copy(imgValPath,valLabelPath)\n",
    "            \n",
    "    # Check amount of train file & validation file\n",
    "    print(\"Amount of train file: {}\".format(getDirFileAmount(trainPath,'.png')))\n",
    "    print(\"Amount of validation file: {}\".format(getDirFileAmount(valPath,'.png')))"
   ]
  },
  {
   "cell_type": "code",
   "execution_count": 7,
   "metadata": {},
   "outputs": [],
   "source": [
    "dirPath='images/trainfont'"
   ]
  },
  {
   "cell_type": "code",
   "execution_count": null,
   "metadata": {},
   "outputs": [
    {
     "name": "stdout",
     "output_type": "stream",
     "text": [
      "total file: 4830\n",
      "train file: 965\n",
      "validation file: 3865\n",
      "train is initailized sucessfully.\n",
      "train_label is initailized sucessfully.\n",
      "val is initailized sucessfully.\n",
      "val_label is initailized sucessfully.\n",
      "train_NotUse is initailized sucessfully.\n",
      "test is initailized sucessfully.\n"
     ]
    }
   ],
   "source": [
    "shuffleFile(dirPath,'song_font','softblack')"
   ]
  }
 ],
 "metadata": {
  "kernelspec": {
   "display_name": "Python 3",
   "language": "python",
   "name": "python3"
  },
  "language_info": {
   "codemirror_mode": {
    "name": "ipython",
    "version": 3
   },
   "file_extension": ".py",
   "mimetype": "text/x-python",
   "name": "python",
   "nbconvert_exporter": "python",
   "pygments_lexer": "ipython3",
   "version": "3.6.6"
  }
 },
 "nbformat": 4,
 "nbformat_minor": 2
}
